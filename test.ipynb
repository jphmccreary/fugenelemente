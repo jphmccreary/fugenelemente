{
 "cells": [
  {
   "cell_type": "code",
   "execution_count": 2,
   "metadata": {},
   "outputs": [
    {
     "name": "stdout",
     "output_type": "stream",
     "text": [
      "number: 1\n",
      "sentence: Um die in jeder Hinsicht zufriedenzustellen, tüftelt er einen Weg aus, sinnlose Bürokratie wie Ladenschlußgesetz und Nachtbackverbot auszutricksen.\n",
      "True\n",
      "True\n",
      "True\n",
      "True\n",
      "True\n",
      "time to search all sents with regex: 0:00:00.416692\n"
     ]
    }
   ],
   "source": [
    "import re\n",
    "from datetime import datetime\n",
    "\n",
    "year = 1995\n",
    "sents_file = open(f'dumps/filtered_sents/{year}sents.txt', 'r')\n",
    "\n",
    "# regex should separate each line's id # from its sent in group 1&2 respectively\n",
    "separator = re.compile('^([0-9]+)\\s+([^\\n]+)')\n",
    "\n",
    "result = separator.search(sents_file.readline())\n",
    "print(f'number: {result.group(1)}\\nsentence: {result.group(2)}')\n",
    "\n",
    "test_cases = {\n",
    "    1000000: 'Die Vergrößerung der Wohnflächen geht zu Lasten der Grünflächen mit der Folge, daß nur noch die Hälfte der Wohnungen über einen Garten verfügen wird.',\n",
    "    991616: 'Dinner Theater, im Alt-Berliner Schneckenhaus Restaurant, Viktoria-Luise-Platz 12 a (211 20 60): 3./4., 20 Uhr: Wenn Claire mit Otto eine Sause macht - Waldoff-Revue mit Uschi Amberger und Hellmut Gaber.',\n",
    "    24: 'In den Medien wurde weder über den Widerstand gegen den Vizepremier noch über die Opposition gegen das Zentralbankgesetz berichtet.',\n",
    "    2500: 'Lancelot seinerseits will nur Ritter werden, um Ginevra nahe zu sein, Malagant träumt in allem Terror von schrankenloser Freiheit.',\n",
    "    525: 'In den letzten sechs Jahren kamen fünf Preisträger aus der Metropole im Mittleren Westen der USA.',\n",
    "}\n",
    "\n",
    "lines = sents_file.readlines()\n",
    "t0 = datetime.now()\n",
    "for line in lines:\n",
    "    result = separator.search(line)\n",
    "    if not result:\n",
    "        print(f'search failed at line: {line}')\n",
    "        break\n",
    "    index = result.group(1)\n",
    "    if int(index) in test_cases:\n",
    "        print(test_cases[int(index)] == result.group(2))\n",
    "t1 = datetime.now()\n",
    "print(f'time to search all sents with regex: {t1 - t0}')\n",
    "\n",
    "sents_file.close()"
   ]
  },
  {
   "cell_type": "code",
   "execution_count": 12,
   "metadata": {},
   "outputs": [
    {
     "name": "stdout",
     "output_type": "stream",
     "text": [
      "818575 / 3102177 were considered named entities\n"
     ]
    }
   ],
   "source": [
    "import dill as pickle\n",
    "\n",
    "ne_ct = 0\n",
    "total_ct = 0\n",
    "for year in range(1995, 2023):\n",
    "    ycs = pickle.load(open(f'dumps/spacy_attrs_added/{year}ycs', 'rb'))\n",
    "    for yc in ycs.values():\n",
    "        if not hasattr(yc, 'ent_types'):\n",
    "            continue\n",
    "        ets = yc.ent_types\n",
    "        ne_occurrences = 0\n",
    "        for key, val in ets.items():\n",
    "            if not key == '':\n",
    "                ne_occurrences += val\n",
    "        if '' not in ets or ne_occurrences >= ets['']:\n",
    "            ne_ct += 1\n",
    "        total_ct += 1\n",
    "\n",
    "print(f'{ne_ct} / {total_ct} were considered named entities')"
   ]
  },
  {
   "cell_type": "code",
   "execution_count": 10,
   "metadata": {},
   "outputs": [],
   "source": [
    "import dill as pickle\n",
    "\n",
    "for year in range(1995, 1996):\n",
    "    ycs = pickle.load(open(f'dumps/invalid_chars_filtered/{year}ycs', 'rb'))\n",
    "    for text, yc in ycs.items():\n",
    "        if not hasattr(yc, 'ent_types'):\n",
    "            print(text)\n",
    "    "
   ]
  },
  {
   "cell_type": "code",
   "execution_count": 4,
   "metadata": {},
   "outputs": [
    {
     "name": "stdout",
     "output_type": "stream",
     "text": [
      "{'!', '\"', 'â', '\\x92', 'Ç', 'ù', '™', 'ô', 'ş', 'É', 'ć', '<', 'é', '‘', 'ý', 'ï', 'å', '\\x93', '(', '?', 'č', '·', ':', 'è', '\\u200b', 'β', 'ł', 'ǔ', 'ç', 'á', 'ñ', '@', ']', '\\ufeff', '”', 'œ', '´', '̈', 'ğ', '\\x94', 'Ş', '\\x84', '>', \"'\", '_', '’', ',', 'ú', '`', 'Ã', '…', '.', '&', 'ã', 'ē', '–', '‑', 'ø', '‚', '*', '\\xad', '=', '„', '\\x96', '²', '°', ')', 'Â', 'Č', '»', '₂', '\\x80', '+', '%', '›', '«', 'ê', 'š', 'Å', '‹', '\\uf003', 'ó', '\\x10', 'æ', '•', '³', '®', '$', '�', 'í', 'ž', 'ë', '‐', '“', '/', '¼', 'ě', 'à'}\n"
     ]
    }
   ],
   "source": [
    "import re\n",
    "\n",
    "chars_to_remove = set()\n",
    "\n",
    "x = re.compile(r'([^a-zA-ZäÄöÖüÜß\\-])')\n",
    "\n",
    "for year in range(1995, 2023):\n",
    "    ycs = pickle.load(open(f'dumps/spacy_attrs_added/{year}ycs', 'rb'))\n",
    "    for text in ycs.keys():\n",
    "        result = x.search(text)\n",
    "        if result:\n",
    "            for match in result.groups():\n",
    "                chars_to_remove.add(match)\n",
    "print(chars_to_remove)"
   ]
  },
  {
   "cell_type": "code",
   "execution_count": 14,
   "metadata": {},
   "outputs": [],
   "source": [
    "import dill as pickle\n",
    "\n",
    "for year in range(1995, 2023):\n",
    "    ycs = pickle.load(open(f'dumps/invalid_chars_filtered/{year}ycs', 'rb'))\n",
    "    for text, yc in ycs.items():\n",
    "        pass"
   ]
  }
 ],
 "metadata": {
  "kernelspec": {
   "display_name": "Python 3",
   "language": "python",
   "name": "python3"
  },
  "language_info": {
   "codemirror_mode": {
    "name": "ipython",
    "version": 3
   },
   "file_extension": ".py",
   "mimetype": "text/x-python",
   "name": "python",
   "nbconvert_exporter": "python",
   "pygments_lexer": "ipython3",
   "version": "3.11.3"
  },
  "orig_nbformat": 4
 },
 "nbformat": 4,
 "nbformat_minor": 2
}
